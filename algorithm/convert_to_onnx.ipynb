{
 "cells": [
  {
   "cell_type": "code",
   "execution_count": null,
   "id": "79675778",
   "metadata": {},
   "outputs": [],
   "source": [
    "import torch\n",
    "import torch.onnx\n",
    "from model import RadarCamModel\n",
    "\n",
    "MODEL_PATH = \"results/2024-06-21_23-46-23/model_8.pth\"\n",
    "MODEL_ONNX_PATH = \"results/2024-06-21_23-46-23/model_2024-06-21_23-46-23_epoch8.onnx\"\n",
    "\n",
    "W_RESIZED = 800 \n",
    "H_RESIZED = 450 \n",
    "NUMBER_RADAR_POINTS = 100 # Number of radar points to use. If the number of points in a sample is less than this, they are \n",
    "                          # resampled randomly to create an array of fixed number of points. This shouldn't hurt the performance\n",
    "RADAR_CHANNELS_ENCODER = [64, 128, 256, 432] \n",
    "UNET_CHANNELS_IMG = [2, 4, 8, 12, 16, 24, 32, 48] \n",
    "UNET_CHANNELS_RADAR = 24\n",
    "\n",
    "\n",
    "device = \"cuda\" if torch.cuda.is_available() else \"cpu\"\n",
    " \n",
    "model = RadarCamModel(RADAR_CHANNELS_ENCODER, UNET_CHANNELS_IMG, UNET_CHANNELS_RADAR).to(device)\n",
    "model.eval()\n",
    "model.load_state_dict(torch.load(MODEL_PATH))\n",
    "\n",
    "#Input to the model\n",
    "torch.manual_seed(0)\n",
    "x1 = torch.randn(1, 1, H_RESIZED, W_RESIZED).to(device)\n",
    "x2 = torch.randn(1, 3, NUMBER_RADAR_POINTS).to(device)\n",
    "\n",
    "torch.onnx.export(model,               # model being run\n",
    "                (x1, x2),                         # model input (or a tuple for multiple inputs)\n",
    "                MODEL_ONNX_PATH,   # where to save the model (can be a file or file-like object)\n",
    "                export_params=True,        # store the trained parameter weights inside the model file\n",
    "                opset_version=16,          # the ONNX version to export the model to\n",
    "                input_names = ['x_cam', 'x_rad'],   # the model's input names\n",
    "                output_names = ['y_depth'], # the model's output names\n",
    "                do_constant_folding=True,  # whether to execute constant folding for optimization\n",
    "            )"
   ]
  },
  {
   "cell_type": "code",
   "execution_count": null,
   "id": "9bd729f2",
   "metadata": {},
   "outputs": [],
   "source": []
  }
 ],
 "metadata": {
  "kernelspec": {
   "display_name": "Python 3 (ipykernel)",
   "language": "python",
   "name": "python3"
  },
  "language_info": {
   "codemirror_mode": {
    "name": "ipython",
    "version": 3
   },
   "file_extension": ".py",
   "mimetype": "text/x-python",
   "name": "python",
   "nbconvert_exporter": "python",
   "pygments_lexer": "ipython3",
   "version": "3.8.19"
  }
 },
 "nbformat": 4,
 "nbformat_minor": 5
}
