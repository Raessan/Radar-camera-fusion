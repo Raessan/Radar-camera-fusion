{
 "cells": [
  {
   "cell_type": "code",
   "execution_count": 1,
   "id": "2653ef7a",
   "metadata": {},
   "outputs": [],
   "source": [
    "from dataset_nuscenes import DepthDatasetNuscenes\n",
    "from model import RadarCamModel\n",
    "from loss import custom_loss\n",
    "\n",
    "import torch\n",
    "from torch.utils.data import DataLoader\n",
    "import numpy as np\n",
    "\n",
    "from loss import custom_loss, depth_loss\n",
    "from plotting import draw_result, draw_error_map\n",
    "\n",
    "import matplotlib.pyplot as plt\n",
    "import time\n",
    "\n",
    "from tqdm import tqdm"
   ]
  },
  {
   "cell_type": "code",
   "execution_count": 2,
   "id": "a1b0ff3a",
   "metadata": {},
   "outputs": [],
   "source": [
    "# DATASET PARAMETERS\n",
    "DIR_DATA = '/ssd/Datasets_and_code/nuscenes_depth_estimation/dataset/dataset_radar_cam' # Root to the folder with the prepared data\n",
    "W_RESIZED = 800 #800 # If 0, the image is not resized in width\n",
    "H_RESIZED = 450 #450 # If 0, the image is not resized in height\n",
    "MIN_DIST = 0.0 # Threshold minimum depth to discard points\n",
    "MAX_DIST = 50.0 # Threshold maximum depth to discard points\n",
    "NUMBER_RADAR_POINTS = 100 # Number of radar points to use. If the number of points in a sample is less than this, they are \n",
    "                          # resampled randomly to create an array of fixed number of points. This shouldn't hurt the performance\n",
    "\n",
    "# MODEL PARAMETERS\n",
    "BATCH_SIZE = 1\n",
    "RADAR_CHANNELS_ENCODER = [64, 128, 256, 432] \n",
    "UNET_CHANNELS_IMG = [2, 4, 8, 12, 16, 24, 32, 48] \n",
    "UNET_CHANNELS_RADAR = 24\n",
    "\n",
    "# TRAINING PARAMETERS\n",
    "L2_LIDAR = False\n",
    "ALPHA_LOSS = 1.0\n",
    "BETA_LOSS = 5.0\n",
    "GAMMA_LOSS = 0.0\n",
    "LEARNING_RATE = 0.001\n",
    "NUM_EPOCHS = 15\n",
    "NUMBER_SAMPLES_PLOT = 3\n",
    "MODEL_PATH = 'results/2024-05-24_13-14-18/model_9.pth'"
   ]
  },
  {
   "cell_type": "code",
   "execution_count": 3,
   "id": "26162ffb",
   "metadata": {},
   "outputs": [
    {
     "name": "stdout",
     "output_type": "stream",
     "text": [
      "Using device:  cuda\n"
     ]
    },
    {
     "data": {
      "text/plain": [
       "<All keys matched successfully>"
      ]
     },
     "execution_count": 3,
     "metadata": {},
     "output_type": "execute_result"
    }
   ],
   "source": [
    "device = \"cuda\" if torch.cuda.is_available() else \"cpu\"\n",
    "print(\"Using device: \", device)\n",
    "\n",
    "test_set = DepthDatasetNuscenes(\"test\", DIR_DATA, W_RESIZED, H_RESIZED, MIN_DIST, MAX_DIST, NUMBER_RADAR_POINTS)\n",
    "dataloader = DataLoader(test_set, batch_size = BATCH_SIZE, shuffle=True)\n",
    "\n",
    "model = RadarCamModel(RADAR_CHANNELS_ENCODER, UNET_CHANNELS_IMG, UNET_CHANNELS_RADAR).to(device)\n",
    "model.eval()\n",
    "model.load_state_dict(torch.load(MODEL_PATH))"
   ]
  },
  {
   "cell_type": "code",
   "execution_count": 4,
   "id": "5c07b6a2",
   "metadata": {},
   "outputs": [
    {
     "name": "stderr",
     "output_type": "stream",
     "text": [
      "100%|███████████████████████████████████████████| 41/41 [00:05<00:00,  6.89it/s]"
     ]
    },
    {
     "name": "stdout",
     "output_type": "stream",
     "text": [
      "Loss NN total: 0.056576560183269224, loss NN lidar: 0.055031120050244214, loss NN smoothness: 0.00030908802958636933,          loss NN consistency: 0.0, mean inference time PER BATCH: 97.41876764995295 ms\n"
     ]
    },
    {
     "name": "stderr",
     "output_type": "stream",
     "text": [
      "\n"
     ]
    }
   ],
   "source": [
    "test_loss = 0.0\n",
    "test_loss_lidar = 0.0\n",
    "test_loss_smoothness = 0.0\n",
    "test_loss_consistency = 0.0\n",
    "\n",
    "inference_time = 0.0\n",
    "\n",
    "with torch.no_grad():\n",
    "    for batch_idx, (sample_token, rel_depth, radar, lidar) in enumerate(tqdm(dataloader)):\n",
    "        rel_depth, radar, lidar = rel_depth.to(device, dtype=torch.float), radar.to(device, dtype=torch.float), lidar.to(device, dtype=torch.float)\n",
    "        \n",
    "        init_time = time.time()\n",
    "        outputs = model(rel_depth, radar)\n",
    "        end_time = time.time()\n",
    "        inference_time += (end_time-init_time)*1000.0\n",
    "\n",
    "        loss = custom_loss(outputs, lidar, rel_depth, l2_lidar=L2_LIDAR, alpha=ALPHA_LOSS, beta=BETA_LOSS, gamma=GAMMA_LOSS)\n",
    "        lidar_loss, lidar_loss_errormaps = depth_loss(outputs, lidar, l2_lidar=L2_LIDAR)\n",
    "        \n",
    "        test_loss += loss[0].item()\n",
    "        test_loss_lidar += loss[1].item()\n",
    "        test_loss_smoothness += loss[2].item()\n",
    "        test_loss_consistency += loss[3].item()\n",
    "        \n",
    "        \n",
    "        if False: #NUMBER_SAMPLES_PLOT !=0 and batch_idx == 0:\n",
    "            rel_depth = rel_depth.cpu()[:NUMBER_SAMPLES_PLOT,:, :, :]\n",
    "            lidar = lidar.cpu()[:NUMBER_SAMPLES_PLOT,:, :, :]\n",
    "            outputs = outputs.cpu()[:NUMBER_SAMPLES_PLOT,:, :, :]\n",
    "            error_maps = lidar_loss_errormaps.cpu()[:NUMBER_SAMPLES_PLOT,:,:,:]*50.0\n",
    "            draw_result(rel_depth, outputs, lidar, MIN_DIST, MAX_DIST)\n",
    "            draw_error_map([error_maps], clip_error=4, \n",
    "                            dot_size=5, names = [\"Error map\"])\n",
    "            \n",
    "        \n",
    "    test_loss /= len(dataloader)\n",
    "    test_loss_lidar /= len(dataloader)\n",
    "    test_loss_smoothness /= len(dataloader)\n",
    "    test_loss_consistency/= len(dataloader)\n",
    "    inference_time /= float(len(dataloader))\n",
    "    \n",
    "    print(f\"Loss NN total: {test_loss}, loss NN lidar: {test_loss_lidar}, loss NN smoothness: {test_loss_smoothness},\\\n",
    "          loss NN consistency: {test_loss_consistency}, mean inference time PER BATCH: {inference_time} ms\")"
   ]
  },
  {
   "cell_type": "code",
   "execution_count": null,
   "id": "3e464d53",
   "metadata": {},
   "outputs": [],
   "source": []
  }
 ],
 "metadata": {
  "kernelspec": {
   "display_name": "Python 3 (ipykernel)",
   "language": "python",
   "name": "python3"
  },
  "language_info": {
   "codemirror_mode": {
    "name": "ipython",
    "version": 3
   },
   "file_extension": ".py",
   "mimetype": "text/x-python",
   "name": "python",
   "nbconvert_exporter": "python",
   "pygments_lexer": "ipython3",
   "version": "3.8.19"
  }
 },
 "nbformat": 4,
 "nbformat_minor": 5
}
