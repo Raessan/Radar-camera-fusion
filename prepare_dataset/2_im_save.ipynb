{
 "cells": [
  {
   "cell_type": "code",
   "execution_count": null,
   "id": "f2f8bc6d",
   "metadata": {},
   "outputs": [],
   "source": [
    "import skimage.io as io\n",
    "import os\n",
    "from os.path import join\n",
    "import glob\n",
    "import argparse\n",
    "from skimage.transform import resize\n",
    "import torch\n",
    "import numpy as np\n",
    "\n",
    "from nuscenes.nuscenes import NuScenes"
   ]
  },
  {
   "cell_type": "code",
   "execution_count": null,
   "id": "ea4edb5c",
   "metadata": {},
   "outputs": [],
   "source": [
    "DIR_DATA = \"/ssd/Datasets_and_code/nuscenes_depth_estimation/dataset/dataset_radar_cam\"\n",
    "DIR_NUSCENES = \"/ssd/Datasets_and_code/nuscenes_depth_estimation/dataset/nuscenes_mini\"\n",
    "VERSION = \"v1.0-mini\""
   ]
  },
  {
   "cell_type": "code",
   "execution_count": null,
   "id": "0baea85a",
   "metadata": {},
   "outputs": [],
   "source": [
    "nusc = NuScenes(VERSION, dataroot = DIR_NUSCENES, verbose=False)\n",
    "      \n",
    "dir_data_out = join(DIR_DATA, 'images')\n",
    "if not os.path.exists(dir_data_out):\n",
    "    os.makedirs(dir_data_out)\n",
    "\n",
    "# Remove all files in the output folder\n",
    "f_list=glob.glob(join(dir_data_out,'*'))\n",
    "for f in f_list:\n",
    "    os.remove(f)\n",
    "print('removed %d old files in output folder' % len(f_list))"
   ]
  },
  {
   "cell_type": "code",
   "execution_count": null,
   "id": "74c44bbb",
   "metadata": {},
   "outputs": [],
   "source": [
    "sample_indices = torch.load(join(DIR_DATA,'data_split.tar'))['all_indices'] \n",
    "         \n",
    "ct = 0         \n",
    "for sample_idx in sample_indices:\n",
    "\n",
    "    cam_token = nusc.sample[sample_idx]['data']['CAM_FRONT']\n",
    "    cam_data = nusc.get('sample_data', cam_token)\n",
    "    cam_path = join(nusc.dataroot, cam_data['filename'])\n",
    "    \n",
    "    im = io.imread(cam_path)\n",
    "    im = im.astype('uint8')\n",
    "    \n",
    "    io.imsave(join(dir_data_out, '%05d_im.jpg' % sample_idx), im)"
   ]
  },
  {
   "cell_type": "code",
   "execution_count": null,
   "id": "a31b0d11",
   "metadata": {},
   "outputs": [],
   "source": []
  }
 ],
 "metadata": {
  "kernelspec": {
   "display_name": "Python 3 (ipykernel)",
   "language": "python",
   "name": "python3"
  },
  "language_info": {
   "codemirror_mode": {
    "name": "ipython",
    "version": 3
   },
   "file_extension": ".py",
   "mimetype": "text/x-python",
   "name": "python",
   "nbconvert_exporter": "python",
   "pygments_lexer": "ipython3",
   "version": "3.8.19"
  }
 },
 "nbformat": 4,
 "nbformat_minor": 5
}
