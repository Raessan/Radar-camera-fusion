{
 "cells": [
  {
   "cell_type": "code",
   "execution_count": null,
   "id": "7172ef3d",
   "metadata": {},
   "outputs": [],
   "source": [
    "import os\n",
    "from os.path import join\n",
    "import argparse\n",
    "import numpy as np\n",
    "from functools import reduce\n",
    "import glob\n",
    "\n",
    "import torch\n",
    "from pyquaternion import Quaternion\n",
    "from nuscenes.nuscenes import NuScenes\n",
    "from nuscenes.utils.geometry_utils import transform_matrix"
   ]
  },
  {
   "cell_type": "code",
   "execution_count": null,
   "id": "b228ae85",
   "metadata": {},
   "outputs": [],
   "source": [
    "DIR_DATA = \"/ssd/Datasets_and_code/nuscenes_depth_estimation/dataset/dataset_radar_cam\"\n",
    "DIR_NUSCENES = \"/ssd/Datasets_and_code/nuscenes_depth_estimation/dataset/nuscenes_mini\"\n",
    "VERSION = \"v1.0-mini\""
   ]
  },
  {
   "cell_type": "code",
   "execution_count": null,
   "id": "a429b955",
   "metadata": {},
   "outputs": [],
   "source": [
    "def get_intrinsic_matrix(nusc, cam_token):       \n",
    "    cam_data = nusc.get('sample_data', cam_token)\n",
    "    cs_rec = nusc.get('calibrated_sensor', cam_data['calibrated_sensor_token'])\n",
    "    \n",
    "    return np.array( cs_rec['camera_intrinsic'] )"
   ]
  },
  {
   "cell_type": "code",
   "execution_count": null,
   "id": "a49ce461",
   "metadata": {},
   "outputs": [],
   "source": [
    "nusc = NuScenes(VERSION, dataroot = DIR_NUSCENES, verbose=False)\n",
    "dir_data_out = join(DIR_DATA, 'cam_matrix')\n",
    "if not os.path.exists(dir_data_out):\n",
    "    os.makedirs(dir_data_out)\n",
    "\n",
    "# Remove all files in the output folder\n",
    "f_list=glob.glob(join(dir_data_out,'*'))\n",
    "for f in f_list:\n",
    "    os.remove(f)\n",
    "print('removed %d old files in output folder' % len(f_list))"
   ]
  },
  {
   "cell_type": "code",
   "execution_count": null,
   "id": "245b2c21",
   "metadata": {},
   "outputs": [],
   "source": [
    "sample_indices = torch.load(join(DIR_DATA,'data_split.tar'))['all_indices'] \n",
    "\n",
    "for sample_idx in sample_indices:\n",
    "\n",
    "    cam_token = nusc.sample[sample_idx]['data']['CAM_FRONT']\n",
    "    cam_data = nusc.get('sample_data', cam_token) \n",
    "\n",
    "    K = get_intrinsic_matrix(nusc, cam_token)\n",
    "\n",
    "    np.savez(join(dir_data_out, '%05d_cam_matrix.npz' % sample_idx), K=K)    "
   ]
  },
  {
   "cell_type": "code",
   "execution_count": null,
   "id": "dad11ffd",
   "metadata": {},
   "outputs": [],
   "source": []
  }
 ],
 "metadata": {
  "kernelspec": {
   "display_name": "Python 3 (ipykernel)",
   "language": "python",
   "name": "python3"
  },
  "language_info": {
   "codemirror_mode": {
    "name": "ipython",
    "version": 3
   },
   "file_extension": ".py",
   "mimetype": "text/x-python",
   "name": "python",
   "nbconvert_exporter": "python",
   "pygments_lexer": "ipython3",
   "version": "3.8.19"
  }
 },
 "nbformat": 4,
 "nbformat_minor": 5
}
