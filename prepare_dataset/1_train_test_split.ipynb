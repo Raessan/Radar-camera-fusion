{
 "cells": [
  {
   "cell_type": "code",
   "execution_count": null,
   "id": "05112672",
   "metadata": {},
   "outputs": [],
   "source": [
    "import os\n",
    "import numpy as np\n",
    "import torch\n",
    "\n",
    "from nuscenes.nuscenes import NuScenes"
   ]
  },
  {
   "cell_type": "code",
   "execution_count": null,
   "id": "8a0666e6",
   "metadata": {},
   "outputs": [],
   "source": [
    "DIR_DATA = \"/ssd/Datasets_and_code/nuscenes_depth_estimation/dataset/dataset_radar_cam\"\n",
    "DIR_NUSCENES = \"/ssd/Datasets_and_code/nuscenes_depth_estimation/dataset/nuscenes_mini\"\n",
    "VERSION = \"v1.0-mini\"\n",
    "\n",
    "train_ratio = 0.8\n",
    "val_ratio = 0.1\n",
    "test_ratio = 0.1"
   ]
  },
  {
   "cell_type": "code",
   "execution_count": null,
   "id": "1ab13dae-44b0-4df2-8d28-06d85c8fdc4c",
   "metadata": {},
   "outputs": [],
   "source": [
    "if not os.path.exists(DIR_DATA):\n",
    "    os.makedirs(DIR_DATA)"
   ]
  },
  {
   "cell_type": "code",
   "execution_count": null,
   "id": "0596593c",
   "metadata": {},
   "outputs": [],
   "source": [
    "nusc = NuScenes(version=VERSION, dataroot = DIR_NUSCENES, verbose=False)"
   ]
  },
  {
   "cell_type": "code",
   "execution_count": null,
   "id": "76722075",
   "metadata": {},
   "outputs": [],
   "source": [
    "# Only use clear day scenes\n",
    "nuscenes_scenes = []\n",
    "\n",
    "for scene in nusc.scene:         \n",
    "    nuscenes_scenes.append(scene['token'])\n",
    "    \n",
    "np.random.shuffle(nuscenes_scenes)    \n",
    "    \n",
    "print(len(nusc.scene), 'total scenes')"
   ]
  },
  {
   "cell_type": "code",
   "execution_count": null,
   "id": "1c6a5cdf",
   "metadata": {},
   "outputs": [],
   "source": [
    "# Get train, val and test scenes\n",
    "n_train_scenes = int(round(len(nuscenes_scenes) * train_ratio))\n",
    "n_val_scenes = int(round(len(nuscenes_scenes) * val_ratio))\n",
    "n_test_scenes = len(nuscenes_scenes) - n_train_scenes - n_val_scenes\n",
    "\n",
    "train_scenes = []\n",
    "val_scenes = []\n",
    "test_scenes = []\n",
    "\n",
    "train_scenes += nuscenes_scenes[:n_train_scenes]\n",
    "val_scenes += nuscenes_scenes[ n_train_scenes: n_train_scenes + n_val_scenes ]\n",
    "test_scenes += nuscenes_scenes[n_train_scenes + n_val_scenes : ]"
   ]
  },
  {
   "cell_type": "code",
   "execution_count": null,
   "id": "0a33d0ad",
   "metadata": {},
   "outputs": [],
   "source": [
    "train_sample_idx = []\n",
    "val_sample_idx = []\n",
    "test_sample_idx = []\n",
    "idx_to_token = {}\n",
    "\n",
    "\n",
    "for idx, sample in enumerate(nusc.sample):            \n",
    "    if sample['scene_token'] in train_scenes:\n",
    "        train_sample_idx.append(idx)\n",
    "    elif sample['scene_token'] in val_scenes:\n",
    "        val_sample_idx.append(idx)\n",
    "    elif sample['scene_token'] in test_scenes:\n",
    "        test_sample_idx.append(idx)\n",
    "    idx_to_token[idx] = sample['token']\n",
    "\n",
    "print(len(train_sample_idx), len(val_sample_idx), len(test_sample_idx))\n",
    "\n",
    "\n",
    "all_idx = train_sample_idx + val_sample_idx + test_sample_idx\n",
    "#print(\"train sample idx: \" + str(train_sample_idx))\n",
    "#print(\"val sample idx: \" + str(val_sample_idx))\n",
    "#print(\"test sample idx: \" + str(test_sample_idx))\n",
    "#print(idx_to_token)"
   ]
  },
  {
   "cell_type": "code",
   "execution_count": null,
   "id": "b4bfd4d5",
   "metadata": {},
   "outputs": [],
   "source": [
    "# Save in dictionary\n",
    "data_split = {'all_indices': all_idx,\n",
    "                  'train_sample_indices': train_sample_idx,\n",
    "                  'val_sample_indices': val_sample_idx,\n",
    "                  'test_sample_indices':  test_sample_idx }\n",
    "\n",
    "\n",
    "torch.save(data_split, os.path.join(DIR_DATA, 'data_split.tar'))\n",
    "torch.save(idx_to_token, os.path.join(DIR_DATA, 'idx_to_token.tar'))"
   ]
  }
 ],
 "metadata": {
  "kernelspec": {
   "display_name": "Python 3 (ipykernel)",
   "language": "python",
   "name": "python3"
  },
  "language_info": {
   "codemirror_mode": {
    "name": "ipython",
    "version": 3
   },
   "file_extension": ".py",
   "mimetype": "text/x-python",
   "name": "python",
   "nbconvert_exporter": "python",
   "pygments_lexer": "ipython3",
   "version": "3.8.19"
  }
 },
 "nbformat": 4,
 "nbformat_minor": 5
}
