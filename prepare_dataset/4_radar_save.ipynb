{
 "cells": [
  {
   "cell_type": "code",
   "execution_count": null,
   "id": "9f9e0c1b",
   "metadata": {},
   "outputs": [],
   "source": [
    "import os\n",
    "from os.path import join\n",
    "import numpy as np\n",
    "import argparse\n",
    "from timeit import default_timer as timer\n",
    "\n",
    "import torch\n",
    "from nuscenes.nuscenes import NuScenes\n",
    "\n",
    "import glob\n",
    "\n",
    "from nuscenes.utils.data_classes import RadarPointCloud\n",
    "from nuscenes.utils.geometry_utils import view_points, transform_matrix\n",
    "\n",
    "from pyquaternion import Quaternion\n"
   ]
  },
  {
   "cell_type": "code",
   "execution_count": null,
   "id": "250f6866",
   "metadata": {},
   "outputs": [],
   "source": [
    "DIR_DATA = \"/ssd/Datasets_and_code/nuscenes_depth_estimation/dataset/dataset_radar_cam\"\n",
    "DIR_NUSCENES = \"/ssd/Datasets_and_code/nuscenes_depth_estimation/dataset/nuscenes_mini\"\n",
    "VERSION = \"v1.0-mini\""
   ]
  },
  {
   "cell_type": "code",
   "execution_count": null,
   "id": "166630e8",
   "metadata": {},
   "outputs": [],
   "source": [
    "nusc = NuScenes(VERSION, dataroot = DIR_NUSCENES, verbose=False)\n",
    "\n",
    "dir_data_out = join(DIR_DATA, 'radar')\n",
    "if not os.path.exists(dir_data_out):\n",
    "    os.makedirs(dir_data_out)\n",
    "\n",
    "# Remove all files in the output folder\n",
    "f_list=glob.glob(join(dir_data_out,'*'))\n",
    "for f in f_list:\n",
    "    os.remove(f)\n",
    "print('removed %d old files in output folder' % len(f_list))"
   ]
  },
  {
   "cell_type": "code",
   "execution_count": null,
   "id": "339a5d59",
   "metadata": {},
   "outputs": [],
   "source": [
    "sample_indices = torch.load(join(DIR_DATA,'data_split.tar'))['all_indices']\n",
    "       \n",
    "N_total = len(sample_indices)\n",
    "print('Total sample number:', N_total)"
   ]
  },
  {
   "cell_type": "code",
   "execution_count": null,
   "id": "17b9371e",
   "metadata": {},
   "outputs": [],
   "source": [
    "for sample_idx in sample_indices:\n",
    "    \n",
    "    sample_rec = nusc.sample[sample_idx]\n",
    "    radar_token = sample_rec['data']['RADAR_FRONT']        \n",
    "    radar_sample = nusc.get('sample_data', radar_token)\n",
    "    \n",
    "    pcl_path = os.path.join(nusc.dataroot, radar_sample['filename'])\n",
    "    RadarPointCloud.disable_filters()\n",
    "    pc = RadarPointCloud.from_file(pcl_path)\n",
    "    \n",
    "    cam_token = nusc.sample[sample_idx]['data']['CAM_FRONT']\n",
    "    cam = nusc.get('sample_data', cam_token)\n",
    "    \n",
    "    # Points live in the point sensor frame. So they need to be transformed via global to the image plane.\n",
    "    # First step: transform the pointcloud to the ego vehicle frame for the timestamp of the sweep.\n",
    "    cs_record = nusc.get('calibrated_sensor', radar_sample['calibrated_sensor_token'])\n",
    "    pc.rotate(Quaternion(cs_record['rotation']).rotation_matrix)\n",
    "    pc.translate(np.array(cs_record['translation']))\n",
    "\n",
    "    # Second step: transform from ego to the global frame.\n",
    "    poserecord = nusc.get('ego_pose', radar_sample['ego_pose_token'])\n",
    "    pc.rotate(Quaternion(poserecord['rotation']).rotation_matrix)\n",
    "    pc.translate(np.array(poserecord['translation']))\n",
    "\n",
    "    # Third step: transform from global into the ego vehicle frame for the timestamp of the image.\n",
    "    poserecord = nusc.get('ego_pose', cam['ego_pose_token'])\n",
    "    pc.translate(-np.array(poserecord['translation']))\n",
    "    pc.rotate(Quaternion(poserecord['rotation']).rotation_matrix.T)\n",
    "\n",
    "    # Fourth step: transform from ego into the camera.\n",
    "    cs_record = nusc.get('calibrated_sensor', cam['calibrated_sensor_token'])\n",
    "    pc.translate(-np.array(cs_record['translation']))\n",
    "    pc.rotate(Quaternion(cs_record['rotation']).rotation_matrix.T)\n",
    "    \n",
    "    np.save(join(dir_data_out, '%05d_radar_pc' % sample_idx), pc.points[:3,:])"
   ]
  },
  {
   "cell_type": "code",
   "execution_count": null,
   "id": "8e6cdfca",
   "metadata": {},
   "outputs": [],
   "source": [
    "    "
   ]
  }
 ],
 "metadata": {
  "kernelspec": {
   "display_name": "Python 3 (ipykernel)",
   "language": "python",
   "name": "python3"
  },
  "language_info": {
   "codemirror_mode": {
    "name": "ipython",
    "version": 3
   },
   "file_extension": ".py",
   "mimetype": "text/x-python",
   "name": "python",
   "nbconvert_exporter": "python",
   "pygments_lexer": "ipython3",
   "version": "3.8.19"
  }
 },
 "nbformat": 4,
 "nbformat_minor": 5
}
