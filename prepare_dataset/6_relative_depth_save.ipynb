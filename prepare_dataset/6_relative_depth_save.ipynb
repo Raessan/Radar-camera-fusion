{
 "cells": [
  {
   "cell_type": "code",
   "execution_count": 1,
   "id": "73f0fc73-1e13-4ecf-88cb-084bcfb333fa",
   "metadata": {},
   "outputs": [],
   "source": [
    "import argparse\n",
    "import cv2\n",
    "import numpy as np\n",
    "import os\n",
    "import torch\n",
    "import torch.nn.functional as F\n",
    "from torchvision.transforms import Compose\n",
    "from tqdm import tqdm\n",
    "import glob\n",
    "\n",
    "import sys\n",
    "sys.path.insert(0, \"Depth-Anything\")\n",
    "\n",
    "from depth_anything.dpt import DepthAnything\n",
    "from depth_anything.util.transform import Resize, NormalizeImage, PrepareForNet       "
   ]
  },
  {
   "cell_type": "code",
   "execution_count": 2,
   "id": "91323801-0426-4f5a-b347-2da14345546c",
   "metadata": {},
   "outputs": [
    {
     "name": "stdout",
     "output_type": "stream",
     "text": [
      "cuda\n"
     ]
    }
   ],
   "source": [
    "DIR_DATA = \"/ssd/Datasets_and_code/nuscenes_depth_estimation/dataset/dataset_radar_cam\"\n",
    "ENCODER = 'vitb'\n",
    "\n",
    "DEVICE = 'cuda' if torch.cuda.is_available() else 'cpu'\n",
    "print(DEVICE)"
   ]
  },
  {
   "cell_type": "code",
   "execution_count": 3,
   "id": "4fd46c9b-999a-49b7-952b-21c1d2a13ec6",
   "metadata": {},
   "outputs": [
    {
     "name": "stderr",
     "output_type": "stream",
     "text": [
      "xFormers not available\n",
      "xFormers not available\n"
     ]
    },
    {
     "name": "stdout",
     "output_type": "stream",
     "text": [
      "Total parameters: 97.47M\n"
     ]
    }
   ],
   "source": [
    "# Get the current directory\n",
    "current_dir = os.getcwd()\n",
    "# Save the original working directory\n",
    "original_cwd = os.getcwd()\n",
    "# Change the working directory to Depth-Anything\n",
    "os.chdir(os.path.join(current_dir, 'Depth-Anything'))\n",
    "# Load model\n",
    "depth_anything = DepthAnything.from_pretrained('LiheYoung/depth_anything_{}14'.format(ENCODER)).to(DEVICE).eval()\n",
    "# Revert back to the original working directory\n",
    "os.chdir(original_cwd)\n",
    "total_params = sum(param.numel() for param in depth_anything.parameters())\n",
    "print('Total parameters: {:.2f}M'.format(total_params / 1e6))"
   ]
  },
  {
   "cell_type": "code",
   "execution_count": 4,
   "id": "18ef9445-4775-4218-be4a-61bfceae7888",
   "metadata": {},
   "outputs": [],
   "source": [
    "transform = Compose([\n",
    "        Resize(\n",
    "            width=518,\n",
    "            height=518,\n",
    "            resize_target=False,\n",
    "            keep_aspect_ratio=True,\n",
    "            ensure_multiple_of=14,\n",
    "            resize_method='lower_bound',\n",
    "            image_interpolation_method=cv2.INTER_CUBIC,\n",
    "        ),\n",
    "        NormalizeImage(mean=[0.485, 0.456, 0.406], std=[0.229, 0.224, 0.225]),\n",
    "        PrepareForNet(),\n",
    "    ])"
   ]
  },
  {
   "cell_type": "code",
   "execution_count": 5,
   "id": "df726cb3-4a5f-4402-b61b-00970d014e9d",
   "metadata": {},
   "outputs": [
    {
     "name": "stdout",
     "output_type": "stream",
     "text": [
      "removed 404 old files in output folder\n",
      "removed 404 old files in output folder png\n"
     ]
    }
   ],
   "source": [
    "dir_data_out = os.path.join(DIR_DATA, 'relative_depth')\n",
    "dir_data_out_png = os.path.join(DIR_DATA, 'relative_depth_png')\n",
    "\n",
    "if not os.path.exists(dir_data_out):\n",
    "    os.makedirs(dir_data_out)\n",
    "\n",
    "if not os.path.exists(dir_data_out_png):\n",
    "    os.makedirs(dir_data_out_png)\n",
    "# Remove all files in the output folder\n",
    "f_list=glob.glob(os.path.join(dir_data_out,'*'))\n",
    "for f in f_list:\n",
    "    os.remove(f)\n",
    "print('removed %d old files in output folder' % len(f_list))\n",
    "\n",
    "f_list=glob.glob(os.path.join(dir_data_out_png,'*'))\n",
    "for f in f_list:\n",
    "    os.remove(f)\n",
    "print('removed %d old files in output folder png' % len(f_list))"
   ]
  },
  {
   "cell_type": "code",
   "execution_count": 6,
   "id": "a4a25651-1990-43ef-9c19-4b345d2072ee",
   "metadata": {},
   "outputs": [
    {
     "name": "stdout",
     "output_type": "stream",
     "text": [
      "404\n"
     ]
    }
   ],
   "source": [
    "filename_images = glob.glob(os.path.join(DIR_DATA,'images','*'))\n",
    "print(len(filename_images))"
   ]
  },
  {
   "cell_type": "code",
   "execution_count": null,
   "id": "6ca23be9-c5f9-4fae-bf04-191f739d7b4b",
   "metadata": {},
   "outputs": [
    {
     "name": "stderr",
     "output_type": "stream",
     "text": [
      " 50%|████████████████████████████████████████████████████████████████████████████████████████████████                                                                                                | 202/404 [01:40<01:35,  2.13it/s]"
     ]
    }
   ],
   "source": [
    "for i in tqdm(range(len(filename_images))):\n",
    "    \n",
    "    raw_image = cv2.imread(filename_images[i])\n",
    "    image = cv2.cvtColor(raw_image, cv2.COLOR_BGR2RGB) / 255.0\n",
    "\n",
    "    h, w = image.shape[:2]\n",
    "        \n",
    "    image = transform({'image': image})['image']\n",
    "    image = torch.from_numpy(image).unsqueeze(0).to(DEVICE)\n",
    "    \n",
    "    with torch.no_grad():\n",
    "        depth = depth_anything(image)\n",
    "    \n",
    "    depth = F.interpolate(depth[None], (h, w), mode='bilinear', align_corners=False)[0, 0]\n",
    "    depth = (depth - depth.min()) / (depth.max() - depth.min()) #* 255.0\n",
    "    \n",
    "    depth = depth.cpu().numpy() #.astype(np.uint8)\n",
    "\n",
    "    depth_png = cv2.applyColorMap((depth*255.0).astype(np.uint8), cv2.COLORMAP_INFERNO)\n",
    "\n",
    "    sample_idx = int(filename_images[i][-12:-7])\n",
    "\n",
    "    np.save(os.path.join(dir_data_out, '%05d_rel_depth' % sample_idx), depth)\n",
    "    cv2.imwrite(os.path.join(dir_data_out_png, '%05d_rel_depth.png' % sample_idx), depth_png)"
   ]
  }
 ],
 "metadata": {
  "kernelspec": {
   "display_name": "Python 3 (ipykernel)",
   "language": "python",
   "name": "python3"
  },
  "language_info": {
   "codemirror_mode": {
    "name": "ipython",
    "version": 3
   },
   "file_extension": ".py",
   "mimetype": "text/x-python",
   "name": "python",
   "nbconvert_exporter": "python",
   "pygments_lexer": "ipython3",
   "version": "3.8.19"
  }
 },
 "nbformat": 4,
 "nbformat_minor": 5
}
